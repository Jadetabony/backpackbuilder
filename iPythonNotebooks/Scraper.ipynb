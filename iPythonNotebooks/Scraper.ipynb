{
 "cells": [
  {
   "cell_type": "code",
   "execution_count": 3,
   "metadata": {
    "collapsed": true
   },
   "outputs": [],
   "source": [
    "from selenium import webdriver\n",
    "from lxml import html\n",
    "from time import sleep\n",
    "from pprint import pprint\n",
    "from xvfbwrapper import Xvfb"
   ]
  },
  {
   "cell_type": "code",
   "execution_count": 17,
   "metadata": {
    "collapsed": false
   },
   "outputs": [],
   "source": [
    "def getNumberItems(browser, url):\n",
    "    browser.get(url)\n",
    "    sleep(5)\n",
    "\n",
    "    parser = html.fromstring(browser.page_source,browser.current_url)\n",
    "    item_count = parser.xpath('//div[@class=\"text-lead\"]')\n",
    "    for i in item_count[0].text_content().strip().strip(\"(\").split():\n",
    "        if i.isdigit():\n",
    "            item_cnt = int(i)\n",
    "    return item_cnt\n",
    "        \n",
    "def grabLinks(browser, base_url, page_number):\n",
    "    links = []\n",
    "    browser.get(base_url+str(page_number))\n",
    "    sleep(5)\n",
    "    product_title = browser.find_elements_by_class_name('product-title')\n",
    "    for p in product_title:\n",
    "        link.append(p.find_element_by_css_selector('a').get_attribute('href'))\n",
    "    return links"
   ]
  },
  {
   "cell_type": "code",
   "execution_count": null,
   "metadata": {
    "collapsed": true
   },
   "outputs": [],
   "source": [
    "url = 'https://www.rei.com/c/hiking-jackets?r=c&pagesize=90&ir=category%3Ahiking-jackets&page=1'\n",
    "path_to_chromedriver = '/Users/Jade/Desktop/chromedriver' # change path as needed\n",
    "browser = webdriver.Chrome(executable_path = path_to_chromedriver)\n",
    "\n",
    "item_cnt = getNumberItems(browser, url)\n",
    "\n",
    "final_links = []\n",
    "page_number = 1\n",
    "base_url ='https://www.rei.com/c/hiking-jackets?r=c&pagesize=90&ir=category%3Ahiking-jackets&page='\n",
    "while item_cnt > 0:\n",
    "    final_links.extend(grabLinks(base_url, page_number))\n",
    "    page_number += 1\n",
    "    item_cnt -= 90"
   ]
  },
  {
   "cell_type": "code",
   "execution_count": null,
   "metadata": {
    "collapsed": true
   },
   "outputs": [],
   "source": [
    "#write to a text file\n",
    "f = open(\"../data/productlinks.txt\", \"a\")\n",
    "f.writelines(final_links)\n",
    "f.close()"
   ]
  }
 ],
 "metadata": {
  "anaconda-cloud": {},
  "kernelspec": {
   "display_name": "Python [Root]",
   "language": "python",
   "name": "Python [Root]"
  },
  "language_info": {
   "codemirror_mode": {
    "name": "ipython",
    "version": 2
   },
   "file_extension": ".py",
   "mimetype": "text/x-python",
   "name": "python",
   "nbconvert_exporter": "python",
   "pygments_lexer": "ipython2",
   "version": "2.7.12"
  }
 },
 "nbformat": 4,
 "nbformat_minor": 0
}
